{
  "nbformat": 4,
  "nbformat_minor": 0,
  "metadata": {
    "colab": {
      "name": "SNeIa_preprocess.ipynb",
      "provenance": [],
      "mount_file_id": "1WNAA8rosG--WfUc1ZHOlUyxBy4U5P8L3",
      "authorship_tag": "ABX9TyPk5+J+KN69UxAhZsgfObmU",
      "include_colab_link": true
    },
    "kernelspec": {
      "name": "python3",
      "display_name": "Python 3"
    },
    "language_info": {
      "name": "python"
    },
    "widgets": {
      "application/vnd.jupyter.widget-state+json": {
        "efe5b3ee6ef945f9b92dc81118ff8163": {
          "model_module": "@jupyter-widgets/controls",
          "model_name": "HBoxModel",
          "state": {
            "_view_name": "HBoxView",
            "_dom_classes": [],
            "_model_name": "HBoxModel",
            "_view_module": "@jupyter-widgets/controls",
            "_model_module_version": "1.5.0",
            "_view_count": null,
            "_view_module_version": "1.5.0",
            "box_style": "",
            "layout": "IPY_MODEL_842c60b84e024aa7a826378dc84b74da",
            "_model_module": "@jupyter-widgets/controls",
            "children": [
              "IPY_MODEL_6470e9581eb749d6a9afe35ba1449d98",
              "IPY_MODEL_092db137759f4c98bb5fdeac5a35acd0"
            ]
          }
        },
        "842c60b84e024aa7a826378dc84b74da": {
          "model_module": "@jupyter-widgets/base",
          "model_name": "LayoutModel",
          "state": {
            "_view_name": "LayoutView",
            "grid_template_rows": null,
            "right": null,
            "justify_content": null,
            "_view_module": "@jupyter-widgets/base",
            "overflow": null,
            "_model_module_version": "1.2.0",
            "_view_count": null,
            "flex_flow": null,
            "width": null,
            "min_width": null,
            "border": null,
            "align_items": null,
            "bottom": null,
            "_model_module": "@jupyter-widgets/base",
            "top": null,
            "grid_column": null,
            "overflow_y": null,
            "overflow_x": null,
            "grid_auto_flow": null,
            "grid_area": null,
            "grid_template_columns": null,
            "flex": null,
            "_model_name": "LayoutModel",
            "justify_items": null,
            "grid_row": null,
            "max_height": null,
            "align_content": null,
            "visibility": null,
            "align_self": null,
            "height": null,
            "min_height": null,
            "padding": null,
            "grid_auto_rows": null,
            "grid_gap": null,
            "max_width": null,
            "order": null,
            "_view_module_version": "1.2.0",
            "grid_template_areas": null,
            "object_position": null,
            "object_fit": null,
            "grid_auto_columns": null,
            "margin": null,
            "display": null,
            "left": null
          }
        },
        "6470e9581eb749d6a9afe35ba1449d98": {
          "model_module": "@jupyter-widgets/controls",
          "model_name": "FloatProgressModel",
          "state": {
            "_view_name": "ProgressView",
            "style": "IPY_MODEL_29834d2ae6d847939ae5ad6000cd7978",
            "_dom_classes": [],
            "description": "100%",
            "_model_name": "FloatProgressModel",
            "bar_style": "success",
            "max": 50000,
            "_view_module": "@jupyter-widgets/controls",
            "_model_module_version": "1.5.0",
            "value": 50000,
            "_view_count": null,
            "_view_module_version": "1.5.0",
            "orientation": "horizontal",
            "min": 0,
            "description_tooltip": null,
            "_model_module": "@jupyter-widgets/controls",
            "layout": "IPY_MODEL_7f3809570a2d4f4f86ac65bf5db90fad"
          }
        },
        "092db137759f4c98bb5fdeac5a35acd0": {
          "model_module": "@jupyter-widgets/controls",
          "model_name": "HTMLModel",
          "state": {
            "_view_name": "HTMLView",
            "style": "IPY_MODEL_f7e1ff4cafb44b12b5e45c89c849c985",
            "_dom_classes": [],
            "description": "",
            "_model_name": "HTMLModel",
            "placeholder": "​",
            "_view_module": "@jupyter-widgets/controls",
            "_model_module_version": "1.5.0",
            "value": " 50000/50000 [26:18&lt;00:00, 31.68it/s]",
            "_view_count": null,
            "_view_module_version": "1.5.0",
            "description_tooltip": null,
            "_model_module": "@jupyter-widgets/controls",
            "layout": "IPY_MODEL_d31f4dc95d504ac8be3c32d338367747"
          }
        },
        "29834d2ae6d847939ae5ad6000cd7978": {
          "model_module": "@jupyter-widgets/controls",
          "model_name": "ProgressStyleModel",
          "state": {
            "_view_name": "StyleView",
            "_model_name": "ProgressStyleModel",
            "description_width": "initial",
            "_view_module": "@jupyter-widgets/base",
            "_model_module_version": "1.5.0",
            "_view_count": null,
            "_view_module_version": "1.2.0",
            "bar_color": null,
            "_model_module": "@jupyter-widgets/controls"
          }
        },
        "7f3809570a2d4f4f86ac65bf5db90fad": {
          "model_module": "@jupyter-widgets/base",
          "model_name": "LayoutModel",
          "state": {
            "_view_name": "LayoutView",
            "grid_template_rows": null,
            "right": null,
            "justify_content": null,
            "_view_module": "@jupyter-widgets/base",
            "overflow": null,
            "_model_module_version": "1.2.0",
            "_view_count": null,
            "flex_flow": null,
            "width": null,
            "min_width": null,
            "border": null,
            "align_items": null,
            "bottom": null,
            "_model_module": "@jupyter-widgets/base",
            "top": null,
            "grid_column": null,
            "overflow_y": null,
            "overflow_x": null,
            "grid_auto_flow": null,
            "grid_area": null,
            "grid_template_columns": null,
            "flex": null,
            "_model_name": "LayoutModel",
            "justify_items": null,
            "grid_row": null,
            "max_height": null,
            "align_content": null,
            "visibility": null,
            "align_self": null,
            "height": null,
            "min_height": null,
            "padding": null,
            "grid_auto_rows": null,
            "grid_gap": null,
            "max_width": null,
            "order": null,
            "_view_module_version": "1.2.0",
            "grid_template_areas": null,
            "object_position": null,
            "object_fit": null,
            "grid_auto_columns": null,
            "margin": null,
            "display": null,
            "left": null
          }
        },
        "f7e1ff4cafb44b12b5e45c89c849c985": {
          "model_module": "@jupyter-widgets/controls",
          "model_name": "DescriptionStyleModel",
          "state": {
            "_view_name": "StyleView",
            "_model_name": "DescriptionStyleModel",
            "description_width": "",
            "_view_module": "@jupyter-widgets/base",
            "_model_module_version": "1.5.0",
            "_view_count": null,
            "_view_module_version": "1.2.0",
            "_model_module": "@jupyter-widgets/controls"
          }
        },
        "d31f4dc95d504ac8be3c32d338367747": {
          "model_module": "@jupyter-widgets/base",
          "model_name": "LayoutModel",
          "state": {
            "_view_name": "LayoutView",
            "grid_template_rows": null,
            "right": null,
            "justify_content": null,
            "_view_module": "@jupyter-widgets/base",
            "overflow": null,
            "_model_module_version": "1.2.0",
            "_view_count": null,
            "flex_flow": null,
            "width": null,
            "min_width": null,
            "border": null,
            "align_items": null,
            "bottom": null,
            "_model_module": "@jupyter-widgets/base",
            "top": null,
            "grid_column": null,
            "overflow_y": null,
            "overflow_x": null,
            "grid_auto_flow": null,
            "grid_area": null,
            "grid_template_columns": null,
            "flex": null,
            "_model_name": "LayoutModel",
            "justify_items": null,
            "grid_row": null,
            "max_height": null,
            "align_content": null,
            "visibility": null,
            "align_self": null,
            "height": null,
            "min_height": null,
            "padding": null,
            "grid_auto_rows": null,
            "grid_gap": null,
            "max_width": null,
            "order": null,
            "_view_module_version": "1.2.0",
            "grid_template_areas": null,
            "object_position": null,
            "object_fit": null,
            "grid_auto_columns": null,
            "margin": null,
            "display": null,
            "left": null
          }
        }
      }
    }
  },
  "cells": [
    {
      "cell_type": "markdown",
      "metadata": {
        "id": "view-in-github",
        "colab_type": "text"
      },
      "source": [
        "<a href=\"https://colab.research.google.com/github/Mainakdeb/project-nova/blob/main/explore_and_preprocess_data.ipynb\" target=\"_parent\"><img src=\"https://colab.research.google.com/assets/colab-badge.svg\" alt=\"Open In Colab\"/></a>"
      ]
    },
    {
      "cell_type": "code",
      "metadata": {
        "id": "R56xtILTM7D6",
        "outputId": "98fc3d31-7f50-4bd7-ad29-7c07e5b71953",
        "colab": {
          "base_uri": "https://localhost:8080/"
        }
      },
      "source": [
        "from google.colab import drive\n",
        "drive.mount('/content/gdrive')"
      ],
      "execution_count": 202,
      "outputs": [
        {
          "output_type": "stream",
          "text": [
            "Mounted at /content/gdrive\n"
          ],
          "name": "stdout"
        }
      ]
    },
    {
      "cell_type": "code",
      "metadata": {
        "id": "MGKtM2p0yEiK"
      },
      "source": [
        "!wget https://s3.amazonaws.com/space2vec-public/post3/extra_small_normalized_image_object_data_in_numpy_format.pkl"
      ],
      "execution_count": null,
      "outputs": []
    },
    {
      "cell_type": "code",
      "metadata": {
        "id": "JVivQgv6kvTy"
      },
      "source": [
        "!wget https://s3.amazonaws.com/space2vec-public/post3/extra_small_all_object_data_in_dictionary_format.pkl"
      ],
      "execution_count": null,
      "outputs": []
    },
    {
      "cell_type": "code",
      "metadata": {
        "id": "yTRh7sejiwHh"
      },
      "source": [
        "import pandas as pd\n",
        "import pickle as pkl\n",
        "import matplotlib.pyplot as plt\n",
        "import numpy as np\n",
        "from tqdm.notebook import tqdm, tnrange\n",
        "from PIL import Image\n",
        "import seaborn as sn\n"
      ],
      "execution_count": 130,
      "outputs": []
    },
    {
      "cell_type": "code",
      "metadata": {
        "id": "721aWAHHpmyP"
      },
      "source": [
        "# !mkdir ext_sm_images"
      ],
      "execution_count": null,
      "outputs": []
    },
    {
      "cell_type": "code",
      "metadata": {
        "id": "u2WAoWvskiHs"
      },
      "source": [
        "DATA_PATH='/content/'\n",
        "ALL_DATA_FILE = \"extra_small_all_object_data_in_dictionary_format.pkl\"\n",
        "NORMALIZED_IMAGE_DATA_FILE = \"extra_small_normalized_image_object_data_in_numpy_format.pkl\""
      ],
      "execution_count": 60,
      "outputs": []
    },
    {
      "cell_type": "code",
      "metadata": {
        "id": "GfQx_nXUklA3"
      },
      "source": [
        "all_data = pickle.load(open(DATA_PATH + ALL_DATA_FILE, \"rb\"))\n",
        "all_images_normalized = pickle.load(open(DATA_PATH + NORMALIZED_IMAGE_DATA_FILE, \"rb\"))"
      ],
      "execution_count": 61,
      "outputs": []
    },
    {
      "cell_type": "code",
      "metadata": {
        "colab": {
          "base_uri": "https://localhost:8080/",
          "height": 324
        },
        "id": "yM1lSn5FlGeB",
        "outputId": "48c45814-939a-4c93-d441-723c60141fb7"
      },
      "source": [
        "plt.imshow(all_images_normalized[0].transpose(1,2,0).astype(np.float32))"
      ],
      "execution_count": 85,
      "outputs": [
        {
          "output_type": "stream",
          "text": [
            "Clipping input data to the valid range for imshow with RGB data ([0..1] for floats or [0..255] for integers).\n"
          ],
          "name": "stderr"
        },
        {
          "output_type": "execute_result",
          "data": {
            "text/plain": [
              "<matplotlib.image.AxesImage at 0x7f38bd9d2a90>"
            ]
          },
          "metadata": {
            "tags": []
          },
          "execution_count": 85
        },
        {
          "output_type": "display_data",
          "data": {
            "image/png": "[encoded data removed]",
            "text/plain": [
              "<Figure size 432x288 with 1 Axes>"
            ]
          },
          "metadata": {
            "tags": [],
            "needs_background": "light"
          }
        }
      ]
    },
    {
      "cell_type": "code",
      "metadata": {
        "id": "36uxbXlBe0-c"
      },
      "source": [
        "with open(ALL_DATA_FILE, \"rb\") as f:\n",
        "    object_ = pkl.load(f)"
      ],
      "execution_count": 148,
      "outputs": []
    },
    {
      "cell_type": "code",
      "metadata": {
        "id": "5m5ekmMh08om",
        "outputId": "eb4970c7-62f5-44fb-f0d0-82842d405ed2",
        "colab": {
          "base_uri": "https://localhost:8080/"
        }
      },
      "source": [
        "cols=list(object_.keys())\n",
        "df = pd.DataFrame(columns = cols)\n",
        "df #"
      ],
      "execution_count": 126,
      "outputs": [
        {
          "output_type": "execute_result",
          "data": {
            "text/plain": [
              "['images', 'targets', 'file_paths', 'observation_numbers']"
            ]
          },
          "metadata": {
            "tags": []
          },
          "execution_count": 126
        }
      ]
    },
    {
      "cell_type": "code",
      "metadata": {
        "id": "H7uGrFiG0_29"
      },
      "source": [
        "targets=object_['targets']\n",
        "images=list(object_['images'])\n",
        "paths=object_['file_paths']\n",
        "ob_num=object_['observation_numbers']\n",
        "\n",
        "df['targets']=targets\n",
        "df['images']=images\n",
        "df['file_paths']=paths\n",
        "df[\"observation_numbers\"]=ob_num"
      ],
      "execution_count": 139,
      "outputs": []
    },
    {
      "cell_type": "code",
      "metadata": {
        "id": "SbFfkipZ1d_5",
        "outputId": "fbbf9c1d-21f4-4a56-dacb-89787f19e50a",
        "colab": {
          "base_uri": "https://localhost:8080/",
          "height": 285
        }
      },
      "source": [
        "df.head()"
      ],
      "execution_count": 211,
      "outputs": [
        {
          "output_type": "execute_result",
          "data": {
            "text/html": [
              "<div>\n",
              "<style scoped>\n",
              "    .dataframe tbody tr th:only-of-type {\n",
              "        vertical-align: middle;\n",
              "    }\n",
              "\n",
              "    .dataframe tbody tr th {\n",
              "        vertical-align: top;\n",
              "    }\n",
              "\n",
              "    .dataframe thead th {\n",
              "        text-align: right;\n",
              "    }\n",
              "</style>\n",
              "<table border=\"1\" class=\"dataframe\">\n",
              "  <thead>\n",
              "    <tr style=\"text-align: right;\">\n",
              "      <th></th>\n",
              "      <th>images</th>\n",
              "      <th>targets</th>\n",
              "      <th>file_paths</th>\n",
              "      <th>observation_numbers</th>\n",
              "    </tr>\n",
              "  </thead>\n",
              "  <tbody>\n",
              "    <tr>\n",
              "      <th>0</th>\n",
              "      <td>[[[255, 56, 41, 42, 46, 56, 58, 56, 69, 49, 80...</td>\n",
              "      <td>0</td>\n",
              "      <td>/home/ubuntu/notebooks/data/home2/SNWG/Archive...</td>\n",
              "      <td>10713492</td>\n",
              "    </tr>\n",
              "    <tr>\n",
              "      <th>1</th>\n",
              "      <td>[[[255, 81, 120, 64, 61, 33, 40, 89, 53, 96, 9...</td>\n",
              "      <td>0</td>\n",
              "      <td>/home/ubuntu/notebooks/data/home2/SNWG/Archive...</td>\n",
              "      <td>10713475</td>\n",
              "    </tr>\n",
              "    <tr>\n",
              "      <th>2</th>\n",
              "      <td>[[[255, 42, 9, 39, 35, 28, 39, 24, 22, 25, 36,...</td>\n",
              "      <td>0</td>\n",
              "      <td>/home/ubuntu/notebooks/data/home2/SNWG/Archive...</td>\n",
              "      <td>10713459</td>\n",
              "    </tr>\n",
              "    <tr>\n",
              "      <th>3</th>\n",
              "      <td>[[[255, 28, 31, 72, 65, 41, 0, 44, 42, 55, 32,...</td>\n",
              "      <td>0</td>\n",
              "      <td>/home/ubuntu/notebooks/data/home2/SNWG/Archive...</td>\n",
              "      <td>10713470</td>\n",
              "    </tr>\n",
              "    <tr>\n",
              "      <th>4</th>\n",
              "      <td>[[[255, 2, 0, 3, 3, 4, 2, 3, 3, 4, 3, 3, 3, 4,...</td>\n",
              "      <td>1</td>\n",
              "      <td>/home/ubuntu/notebooks/data/home2/SNWG/Archive...</td>\n",
              "      <td>10713469</td>\n",
              "    </tr>\n",
              "  </tbody>\n",
              "</table>\n",
              "</div>"
            ],
            "text/plain": [
              "                                              images  ...  observation_numbers\n",
              "0  [[[255, 56, 41, 42, 46, 56, 58, 56, 69, 49, 80...  ...             10713492\n",
              "1  [[[255, 81, 120, 64, 61, 33, 40, 89, 53, 96, 9...  ...             10713475\n",
              "2  [[[255, 42, 9, 39, 35, 28, 39, 24, 22, 25, 36,...  ...             10713459\n",
              "3  [[[255, 28, 31, 72, 65, 41, 0, 44, 42, 55, 32,...  ...             10713470\n",
              "4  [[[255, 2, 0, 3, 3, 4, 2, 3, 3, 4, 3, 3, 3, 4,...  ...             10713469\n",
              "\n",
              "[5 rows x 4 columns]"
            ]
          },
          "metadata": {
            "tags": []
          },
          "execution_count": 211
        }
      ]
    },
    {
      "cell_type": "code",
      "metadata": {
        "id": "gPZSwtqM23dU",
        "outputId": "5eb93d65-d600-4b82-fff1-331f655524a2",
        "colab": {
          "base_uri": "https://localhost:8080/",
          "height": 385
        }
      },
      "source": [
        "sn.heatmap(df.isnull(), yticklabels=False)"
      ],
      "execution_count": 142,
      "outputs": [
        {
          "output_type": "execute_result",
          "data": {
            "text/plain": [
              "<matplotlib.axes._subplots.AxesSubplot at 0x7f38addfb6d0>"
            ]
          },
          "metadata": {
            "tags": []
          },
          "execution_count": 142
        },
        {
          "output_type": "display_data",
          "data": {
            "image/png": "[encoded data removed]",
            "text/plain": [
              "<Figure size 432x288 with 2 Axes>"
            ]
          },
          "metadata": {
            "tags": [],
            "needs_background": "light"
          }
        }
      ]
    },
    {
      "cell_type": "code",
      "metadata": {
        "id": "_N6kts8w5wg4",
        "outputId": "b507fdb9-3b10-4628-e28c-3e42fcbc51a2",
        "colab": {
          "base_uri": "https://localhost:8080/",
          "height": 267
        }
      },
      "source": [
        "plt.imshow(df['images'][0].transpose(1,2,0))\n",
        "plt.show()"
      ],
      "execution_count": 149,
      "outputs": [
        {
          "output_type": "display_data",
          "data": {
            "image/png": "[encoded data removed]",
            "text/plain": [
              "<Figure size 432x288 with 1 Axes>"
            ]
          },
          "metadata": {
            "tags": [],
            "needs_background": "light"
          }
        }
      ]
    },
    {
      "cell_type": "code",
      "metadata": {
        "id": "-jN8ignP-cpI"
      },
      "source": [
        "!mkdir ext_small_images"
      ],
      "execution_count": 155,
      "outputs": []
    },
    {
      "cell_type": "code",
      "metadata": {
        "id": "t8_I1cVG9Zvd",
        "outputId": "e7cbc85b-2055-434f-ea63-002839ce3c8e",
        "colab": {
          "base_uri": "https://localhost:8080/",
          "height": 67,
          "referenced_widgets": [
            "efe5b3ee6ef945f9b92dc81118ff8163",
            "842c60b84e024aa7a826378dc84b74da",
            "6470e9581eb749d6a9afe35ba1449d98",
            "092db137759f4c98bb5fdeac5a35acd0",
            "29834d2ae6d847939ae5ad6000cd7978",
            "7f3809570a2d4f4f86ac65bf5db90fad",
            "f7e1ff4cafb44b12b5e45c89c849c985",
            "d31f4dc95d504ac8be3c32d338367747"
          ]
        }
      },
      "source": [
        "for i in tnrange(0,len(df)):\n",
        "    #png.from_array(all_images_normalized[i], 'L').save()\n",
        "    im0=df['images'][i].transpose(1,2,0)\n",
        "    im=Image.fromarray(im0)\n",
        "    path=\"/content/ext_small_images/ext_sm_\"+str(i)+\".png\"\n",
        "    im.save(path)\n"
      ],
      "execution_count": 162,
      "outputs": [
        {
          "output_type": "display_data",
          "data": {
            "application/vnd.jupyter.widget-view+json": {
              "model_id": "efe5b3ee6ef945f9b92dc81118ff8163",
              "version_major": 2,
              "version_minor": 0
            },
            "text/plain": [
              "HBox(children=(FloatProgress(value=0.0, max=50000.0), HTML(value='')))"
            ]
          },
          "metadata": {
            "tags": []
          }
        },
        {
          "output_type": "stream",
          "text": [
            "\n"
          ],
          "name": "stdout"
        }
      ]
    },
    {
      "cell_type": "code",
      "metadata": {
        "id": "k0cnUgUnF3Ch",
        "outputId": "1ab450d1-4c8e-48a5-d895-36db2afc8851",
        "colab": {
          "base_uri": "https://localhost:8080/",
          "height": 285
        }
      },
      "source": [
        "plt.imshow(plt.imread(\"/content/ext_small_images/ext_sm_2123.png\"))"
      ],
      "execution_count": 187,
      "outputs": [
        {
          "output_type": "execute_result",
          "data": {
            "text/plain": [
              "<matplotlib.image.AxesImage at 0x7f38ac8fdf90>"
            ]
          },
          "metadata": {
            "tags": []
          },
          "execution_count": 187
        },
        {
          "output_type": "display_data",
          "data": {
            "image/png": "[encoded data removed]",
            "text/plain": [
              "<Figure size 432x288 with 1 Axes>"
            ]
          },
          "metadata": {
            "tags": [],
            "needs_background": "light"
          }
        }
      ]
    },
    {
      "cell_type": "code",
      "metadata": {
        "id": "yZk-lnxZDq4c",
        "outputId": "45c234ef-83df-47e6-83bb-39d16883f4b7",
        "colab": {
          "base_uri": "https://localhost:8080/"
        }
      },
      "source": [
        "!apt-get install zip"
      ],
      "execution_count": 173,
      "outputs": [
        {
          "output_type": "stream",
          "text": [
            "Reading package lists... Done\n",
            "Building dependency tree       \n",
            "Reading state information... Done\n",
            "zip is already the newest version (3.0-11build1).\n",
            "0 upgraded, 0 newly installed, 0 to remove and 30 not upgraded.\n"
          ],
          "name": "stdout"
        }
      ]
    },
    {
      "cell_type": "code",
      "metadata": {
        "id": "d__j41WsBMwa"
      },
      "source": [
        "!zip -r \"ext_small_images2.zip\" \"ext_small_images/\""
      ],
      "execution_count": null,
      "outputs": []
    },
    {
      "cell_type": "code",
      "metadata": {
        "id": "YkqzUrV8Ace6",
        "outputId": "7627071e-62a5-4e26-b6d5-fce4a56dbe23",
        "colab": {
          "base_uri": "https://localhost:8080/"
        }
      },
      "source": [
        "!rsync --progress \"/content/ext_small_images.zip\" \"/content/gdrive/MyDrive/mydata/\""
      ],
      "execution_count": 210,
      "outputs": [
        {
          "output_type": "stream",
          "text": [
            "ext_small_images.zip\n",
            "    688,482,790 100%   19.75MB/s    0:00:33 (xfr#1, to-chk=0/1)\n"
          ],
          "name": "stdout"
        }
      ]
    },
    {
      "cell_type": "code",
      "metadata": {
        "id": "RrhjJMduOJ2h"
      },
      "source": [
        ""
      ],
      "execution_count": null,
      "outputs": []
    }
  ]
}