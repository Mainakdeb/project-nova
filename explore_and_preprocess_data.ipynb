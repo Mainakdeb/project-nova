{
  "nbformat": 4,
  "nbformat_minor": 0,
  "metadata": {
    "colab": {
      "name": "SNeIa_preprocess.ipynb",
      "provenance": [],
      "mount_file_id": "https://github.com/Mainakdeb/project-nova/blob/main/explore_and_preprocess_data.ipynb",
      "authorship_tag": "ABX9TyPCuwmJ9pgm/v237tq5zsWb",
      "include_colab_link": true
    },
    "kernelspec": {
      "name": "python3",
      "display_name": "Python 3"
    },
    "language_info": {
      "name": "python"
    },
    "widgets": {
      "application/vnd.jupyter.widget-state+json": {
        "70339881ac5941688c686149203fb107": {
          "model_module": "@jupyter-widgets/controls",
          "model_name": "HBoxModel",
          "state": {
            "_view_name": "HBoxView",
            "_dom_classes": [],
            "_model_name": "HBoxModel",
            "_view_module": "@jupyter-widgets/controls",
            "_model_module_version": "1.5.0",
            "_view_count": null,
            "_view_module_version": "1.5.0",
            "box_style": "",
            "layout": "IPY_MODEL_99c6fe4d981544059d79d05a4b3e1811",
            "_model_module": "@jupyter-widgets/controls",
            "children": [
              "IPY_MODEL_f59595faaab347dc9e9a331873d47fee",
              "IPY_MODEL_2f2458248b6f4084bea766e7485017f3"
            ]
          }
        },
        "99c6fe4d981544059d79d05a4b3e1811": {
          "model_module": "@jupyter-widgets/base",
          "model_name": "LayoutModel",
          "state": {
            "_view_name": "LayoutView",
            "grid_template_rows": null,
            "right": null,
            "justify_content": null,
            "_view_module": "@jupyter-widgets/base",
            "overflow": null,
            "_model_module_version": "1.2.0",
            "_view_count": null,
            "flex_flow": null,
            "width": null,
            "min_width": null,
            "border": null,
            "align_items": null,
            "bottom": null,
            "_model_module": "@jupyter-widgets/base",
            "top": null,
            "grid_column": null,
            "overflow_y": null,
            "overflow_x": null,
            "grid_auto_flow": null,
            "grid_area": null,
            "grid_template_columns": null,
            "flex": null,
            "_model_name": "LayoutModel",
            "justify_items": null,
            "grid_row": null,
            "max_height": null,
            "align_content": null,
            "visibility": null,
            "align_self": null,
            "height": null,
            "min_height": null,
            "padding": null,
            "grid_auto_rows": null,
            "grid_gap": null,
            "max_width": null,
            "order": null,
            "_view_module_version": "1.2.0",
            "grid_template_areas": null,
            "object_position": null,
            "object_fit": null,
            "grid_auto_columns": null,
            "margin": null,
            "display": null,
            "left": null
          }
        },
        "f59595faaab347dc9e9a331873d47fee": {
          "model_module": "@jupyter-widgets/controls",
          "model_name": "FloatProgressModel",
          "state": {
            "_view_name": "ProgressView",
            "style": "IPY_MODEL_accb2adb160740beb05ffd3004e72429",
            "_dom_classes": [],
            "description": "100%",
            "_model_name": "FloatProgressModel",
            "bar_style": "success",
            "max": 50000,
            "_view_module": "@jupyter-widgets/controls",
            "_model_module_version": "1.5.0",
            "value": 50000,
            "_view_count": null,
            "_view_module_version": "1.5.0",
            "orientation": "horizontal",
            "min": 0,
            "description_tooltip": null,
            "_model_module": "@jupyter-widgets/controls",
            "layout": "IPY_MODEL_49628aace0f8493eaa5fc623a3558813"
          }
        },
        "2f2458248b6f4084bea766e7485017f3": {
          "model_module": "@jupyter-widgets/controls",
          "model_name": "HTMLModel",
          "state": {
            "_view_name": "HTMLView",
            "style": "IPY_MODEL_947cb06182ce4ebabd230f602a8b850c",
            "_dom_classes": [],
            "description": "",
            "_model_name": "HTMLModel",
            "placeholder": "​",
            "_view_module": "@jupyter-widgets/controls",
            "_model_module_version": "1.5.0",
            "value": " 50000/50000 [01:07&lt;00:00, 743.39it/s]",
            "_view_count": null,
            "_view_module_version": "1.5.0",
            "description_tooltip": null,
            "_model_module": "@jupyter-widgets/controls",
            "layout": "IPY_MODEL_2f29274c10154ecfb2ac35ca1f005ebf"
          }
        },
        "accb2adb160740beb05ffd3004e72429": {
          "model_module": "@jupyter-widgets/controls",
          "model_name": "ProgressStyleModel",
          "state": {
            "_view_name": "StyleView",
            "_model_name": "ProgressStyleModel",
            "description_width": "initial",
            "_view_module": "@jupyter-widgets/base",
            "_model_module_version": "1.5.0",
            "_view_count": null,
            "_view_module_version": "1.2.0",
            "bar_color": null,
            "_model_module": "@jupyter-widgets/controls"
          }
        },
        "49628aace0f8493eaa5fc623a3558813": {
          "model_module": "@jupyter-widgets/base",
          "model_name": "LayoutModel",
          "state": {
            "_view_name": "LayoutView",
            "grid_template_rows": null,
            "right": null,
            "justify_content": null,
            "_view_module": "@jupyter-widgets/base",
            "overflow": null,
            "_model_module_version": "1.2.0",
            "_view_count": null,
            "flex_flow": null,
            "width": null,
            "min_width": null,
            "border": null,
            "align_items": null,
            "bottom": null,
            "_model_module": "@jupyter-widgets/base",
            "top": null,
            "grid_column": null,
            "overflow_y": null,
            "overflow_x": null,
            "grid_auto_flow": null,
            "grid_area": null,
            "grid_template_columns": null,
            "flex": null,
            "_model_name": "LayoutModel",
            "justify_items": null,
            "grid_row": null,
            "max_height": null,
            "align_content": null,
            "visibility": null,
            "align_self": null,
            "height": null,
            "min_height": null,
            "padding": null,
            "grid_auto_rows": null,
            "grid_gap": null,
            "max_width": null,
            "order": null,
            "_view_module_version": "1.2.0",
            "grid_template_areas": null,
            "object_position": null,
            "object_fit": null,
            "grid_auto_columns": null,
            "margin": null,
            "display": null,
            "left": null
          }
        },
        "947cb06182ce4ebabd230f602a8b850c": {
          "model_module": "@jupyter-widgets/controls",
          "model_name": "DescriptionStyleModel",
          "state": {
            "_view_name": "StyleView",
            "_model_name": "DescriptionStyleModel",
            "description_width": "",
            "_view_module": "@jupyter-widgets/base",
            "_model_module_version": "1.5.0",
            "_view_count": null,
            "_view_module_version": "1.2.0",
            "_model_module": "@jupyter-widgets/controls"
          }
        },
        "2f29274c10154ecfb2ac35ca1f005ebf": {
          "model_module": "@jupyter-widgets/base",
          "model_name": "LayoutModel",
          "state": {
            "_view_name": "LayoutView",
            "grid_template_rows": null,
            "right": null,
            "justify_content": null,
            "_view_module": "@jupyter-widgets/base",
            "overflow": null,
            "_model_module_version": "1.2.0",
            "_view_count": null,
            "flex_flow": null,
            "width": null,
            "min_width": null,
            "border": null,
            "align_items": null,
            "bottom": null,
            "_model_module": "@jupyter-widgets/base",
            "top": null,
            "grid_column": null,
            "overflow_y": null,
            "overflow_x": null,
            "grid_auto_flow": null,
            "grid_area": null,
            "grid_template_columns": null,
            "flex": null,
            "_model_name": "LayoutModel",
            "justify_items": null,
            "grid_row": null,
            "max_height": null,
            "align_content": null,
            "visibility": null,
            "align_self": null,
            "height": null,
            "min_height": null,
            "padding": null,
            "grid_auto_rows": null,
            "grid_gap": null,
            "max_width": null,
            "order": null,
            "_view_module_version": "1.2.0",
            "grid_template_areas": null,
            "object_position": null,
            "object_fit": null,
            "grid_auto_columns": null,
            "margin": null,
            "display": null,
            "left": null
          }
        }
      }
    }
  },
  "cells": [
    {
      "cell_type": "markdown",
      "metadata": {
        "id": "view-in-github",
        "colab_type": "text"
      },
      "source": [
        "<a href=\"https://colab.research.google.com/github/Mainakdeb/project-nova/blob/main/explore_and_preprocess_data.ipynb\" target=\"_parent\"><img src=\"https://colab.research.google.com/assets/colab-badge.svg\" alt=\"Open In Colab\"/></a>"
      ]
    },
    {
      "cell_type": "code",
      "metadata": {
        "id": "R56xtILTM7D6",
        "colab": {
          "base_uri": "https://localhost:8080/"
        },
        "outputId": "98fc3d31-7f50-4bd7-ad29-7c07e5b71953"
      },
      "source": [
        "# from google.colab import drive\n",
        "# drive.mount('/content/gdrive')"
      ],
      "execution_count": null,
      "outputs": [
        {
          "output_type": "stream",
          "text": [
            "Mounted at /content/gdrive\n"
          ],
          "name": "stdout"
        }
      ]
    },
    {
      "cell_type": "code",
      "metadata": {
        "id": "MGKtM2p0yEiK",
        "outputId": "0fcf07c9-3ec9-4bc0-8922-4ae79700d909",
        "colab": {
          "base_uri": "https://localhost:8080/"
        }
      },
      "source": [
        "!wget https://s3.amazonaws.com/space2vec-public/post3/extra_small_normalized_image_object_data_in_numpy_format.pkl"
      ],
      "execution_count": 46,
      "outputs": [
        {
          "output_type": "stream",
          "text": [
            "--2021-03-24 07:56:40--  https://s3.amazonaws.com/space2vec-public/post3/extra_small_normalized_image_object_data_in_numpy_format.pkl\n",
            "Resolving s3.amazonaws.com (s3.amazonaws.com)... 52.217.87.22\n",
            "Connecting to s3.amazonaws.com (s3.amazonaws.com)|52.217.87.22|:443... connected.\n",
            "HTTP request sent, awaiting response... 200 OK\n",
            "Length: 780300166 (744M) [binary/octet-stream]\n",
            "Saving to: ‘extra_small_normalized_image_object_data_in_numpy_format.pkl.1’\n",
            "\n",
            "extra_small_normali 100%[===================>] 744.15M  49.4MB/s    in 16s     \n",
            "\n",
            "2021-03-24 07:56:57 (45.5 MB/s) - ‘extra_small_normalized_image_object_data_in_numpy_format.pkl.1’ saved [780300166/780300166]\n",
            "\n"
          ],
          "name": "stdout"
        }
      ]
    },
    {
      "cell_type": "code",
      "metadata": {
        "id": "JVivQgv6kvTy",
        "outputId": "ef5fff30-d33f-4634-90ef-2b64113adc20",
        "colab": {
          "base_uri": "https://localhost:8080/"
        }
      },
      "source": [
        "!wget https://s3.amazonaws.com/space2vec-public/post3/extra_small_all_object_data_in_dictionary_format.pkl"
      ],
      "execution_count": 47,
      "outputs": [
        {
          "output_type": "stream",
          "text": [
            "--2021-03-24 07:56:57--  https://s3.amazonaws.com/space2vec-public/post3/extra_small_all_object_data_in_dictionary_format.pkl\n",
            "Resolving s3.amazonaws.com (s3.amazonaws.com)... 52.217.80.54\n",
            "Connecting to s3.amazonaws.com (s3.amazonaws.com)|52.217.80.54|:443... connected.\n",
            "HTTP request sent, awaiting response... 200 OK\n",
            "Length: 404750485 (386M) [binary/octet-stream]\n",
            "Saving to: ‘extra_small_all_object_data_in_dictionary_format.pkl.1’\n",
            "\n",
            "extra_small_all_obj 100%[===================>] 386.00M  41.9MB/s    in 9.0s    \n",
            "\n",
            "2021-03-24 07:57:06 (42.9 MB/s) - ‘extra_small_all_object_data_in_dictionary_format.pkl.1’ saved [404750485/404750485]\n",
            "\n"
          ],
          "name": "stdout"
        }
      ]
    },
    {
      "cell_type": "code",
      "metadata": {
        "id": "yTRh7sejiwHh"
      },
      "source": [
        "import pandas as pd\n",
        "import pickle \n",
        "import matplotlib.pyplot as plt\n",
        "import numpy as np\n",
        "from tqdm.notebook import tqdm, tnrange\n",
        "from PIL import Image\n",
        "import seaborn as sn\n",
        "import cv2"
      ],
      "execution_count": 48,
      "outputs": []
    },
    {
      "cell_type": "code",
      "metadata": {
        "id": "721aWAHHpmyP"
      },
      "source": [
        "# !mkdir ext_sm_images"
      ],
      "execution_count": 49,
      "outputs": []
    },
    {
      "cell_type": "code",
      "metadata": {
        "id": "u2WAoWvskiHs"
      },
      "source": [
        "DATA_PATH='/content/'\n",
        "ALL_DATA_FILE = \"extra_small_all_object_data_in_dictionary_format.pkl\"\n",
        "NORMALIZED_IMAGE_DATA_FILE = \"extra_small_normalized_image_object_data_in_numpy_format.pkl\""
      ],
      "execution_count": 50,
      "outputs": []
    },
    {
      "cell_type": "code",
      "metadata": {
        "id": "GfQx_nXUklA3"
      },
      "source": [
        "all_data = pickle.load(open(DATA_PATH + ALL_DATA_FILE, \"rb\"))\n",
        "all_images_normalized = pickle.load(open(DATA_PATH + NORMALIZED_IMAGE_DATA_FILE, \"rb\"))"
      ],
      "execution_count": 51,
      "outputs": []
    },
    {
      "cell_type": "code",
      "metadata": {
        "colab": {
          "base_uri": "https://localhost:8080/",
          "height": 324
        },
        "id": "yM1lSn5FlGeB",
        "outputId": "b388509b-4a69-4fd0-ac3f-54431789a1ba"
      },
      "source": [
        "plt.imshow(all_images_normalized[0].transpose(1,2,0).astype(np.float32))"
      ],
      "execution_count": 52,
      "outputs": [
        {
          "output_type": "stream",
          "text": [
            "Clipping input data to the valid range for imshow with RGB data ([0..1] for floats or [0..255] for integers).\n"
          ],
          "name": "stderr"
        },
        {
          "output_type": "execute_result",
          "data": {
            "text/plain": [
              "<matplotlib.image.AxesImage at 0x7fc35b757910>"
            ]
          },
          "metadata": {
            "tags": []
          },
          "execution_count": 52
        },
        {
          "output_type": "display_data",
          "data": {
            "image/png": "[encoded data removed]",
            "text/plain": [
              "<Figure size 432x288 with 1 Axes>"
            ]
          },
          "metadata": {
            "tags": [],
            "needs_background": "light"
          }
        }
      ]
    },
    {
      "cell_type": "code",
      "metadata": {
        "id": "36uxbXlBe0-c"
      },
      "source": [
        "with open(ALL_DATA_FILE, \"rb\") as f:\n",
        "    object_ = pkl.load(f)"
      ],
      "execution_count": 53,
      "outputs": []
    },
    {
      "cell_type": "code",
      "metadata": {
        "id": "5m5ekmMh08om",
        "colab": {
          "base_uri": "https://localhost:8080/",
          "height": 48
        },
        "outputId": "b91949ca-aa5d-4ab3-a4ec-6291ea4492d1"
      },
      "source": [
        "cols=list(object_.keys())\n",
        "df = pd.DataFrame(columns = cols)\n",
        "df #"
      ],
      "execution_count": 54,
      "outputs": [
        {
          "output_type": "execute_result",
          "data": {
            "text/html": [
              "<div>\n",
              "<style scoped>\n",
              "    .dataframe tbody tr th:only-of-type {\n",
              "        vertical-align: middle;\n",
              "    }\n",
              "\n",
              "    .dataframe tbody tr th {\n",
              "        vertical-align: top;\n",
              "    }\n",
              "\n",
              "    .dataframe thead th {\n",
              "        text-align: right;\n",
              "    }\n",
              "</style>\n",
              "<table border=\"1\" class=\"dataframe\">\n",
              "  <thead>\n",
              "    <tr style=\"text-align: right;\">\n",
              "      <th></th>\n",
              "      <th>images</th>\n",
              "      <th>targets</th>\n",
              "      <th>file_paths</th>\n",
              "      <th>observation_numbers</th>\n",
              "    </tr>\n",
              "  </thead>\n",
              "  <tbody>\n",
              "  </tbody>\n",
              "</table>\n",
              "</div>"
            ],
            "text/plain": [
              "Empty DataFrame\n",
              "Columns: [images, targets, file_paths, observation_numbers]\n",
              "Index: []"
            ]
          },
          "metadata": {
            "tags": []
          },
          "execution_count": 54
        }
      ]
    },
    {
      "cell_type": "code",
      "metadata": {
        "id": "H7uGrFiG0_29"
      },
      "source": [
        "targets=object_['targets']\n",
        "images=list(object_['images'])\n",
        "paths=object_['file_paths']\n",
        "ob_num=object_['observation_numbers']\n",
        "\n",
        "df['targets']=targets\n",
        "df['images']=images\n",
        "df['file_paths']=paths\n",
        "df[\"observation_numbers\"]=ob_num"
      ],
      "execution_count": 55,
      "outputs": []
    },
    {
      "cell_type": "code",
      "metadata": {
        "id": "SbFfkipZ1d_5",
        "colab": {
          "base_uri": "https://localhost:8080/",
          "height": 665
        },
        "outputId": "2ae487e4-fdb7-4006-cc9f-f5c01b768f1f"
      },
      "source": [
        "df.head()"
      ],
      "execution_count": 56,
      "outputs": [
        {
          "output_type": "execute_result",
          "data": {
            "text/html": [
              "<div>\n",
              "<style scoped>\n",
              "    .dataframe tbody tr th:only-of-type {\n",
              "        vertical-align: middle;\n",
              "    }\n",
              "\n",
              "    .dataframe tbody tr th {\n",
              "        vertical-align: top;\n",
              "    }\n",
              "\n",
              "    .dataframe thead th {\n",
              "        text-align: right;\n",
              "    }\n",
              "</style>\n",
              "<table border=\"1\" class=\"dataframe\">\n",
              "  <thead>\n",
              "    <tr style=\"text-align: right;\">\n",
              "      <th></th>\n",
              "      <th>images</th>\n",
              "      <th>targets</th>\n",
              "      <th>file_paths</th>\n",
              "      <th>observation_numbers</th>\n",
              "    </tr>\n",
              "  </thead>\n",
              "  <tbody>\n",
              "    <tr>\n",
              "      <th>0</th>\n",
              "      <td>[[[255, 56, 41, 42, 46, 56, 58, 56, 69, 49, 80...</td>\n",
              "      <td>0</td>\n",
              "      <td>/home/ubuntu/notebooks/data/home2/SNWG/Archive...</td>\n",
              "      <td>10713492</td>\n",
              "    </tr>\n",
              "    <tr>\n",
              "      <th>1</th>\n",
              "      <td>[[[255, 81, 120, 64, 61, 33, 40, 89, 53, 96, 9...</td>\n",
              "      <td>0</td>\n",
              "      <td>/home/ubuntu/notebooks/data/home2/SNWG/Archive...</td>\n",
              "      <td>10713475</td>\n",
              "    </tr>\n",
              "    <tr>\n",
              "      <th>2</th>\n",
              "      <td>[[[255, 42, 9, 39, 35, 28, 39, 24, 22, 25, 36,...</td>\n",
              "      <td>0</td>\n",
              "      <td>/home/ubuntu/notebooks/data/home2/SNWG/Archive...</td>\n",
              "      <td>10713459</td>\n",
              "    </tr>\n",
              "    <tr>\n",
              "      <th>3</th>\n",
              "      <td>[[[255, 28, 31, 72, 65, 41, 0, 44, 42, 55, 32,...</td>\n",
              "      <td>0</td>\n",
              "      <td>/home/ubuntu/notebooks/data/home2/SNWG/Archive...</td>\n",
              "      <td>10713470</td>\n",
              "    </tr>\n",
              "    <tr>\n",
              "      <th>4</th>\n",
              "      <td>[[[255, 2, 0, 3, 3, 4, 2, 3, 3, 4, 3, 3, 3, 4,...</td>\n",
              "      <td>1</td>\n",
              "      <td>/home/ubuntu/notebooks/data/home2/SNWG/Archive...</td>\n",
              "      <td>10713469</td>\n",
              "    </tr>\n",
              "  </tbody>\n",
              "</table>\n",
              "</div>"
            ],
            "text/plain": [
              "                                              images  ...  observation_numbers\n",
              "0  [[[255, 56, 41, 42, 46, 56, 58, 56, 69, 49, 80...  ...             10713492\n",
              "1  [[[255, 81, 120, 64, 61, 33, 40, 89, 53, 96, 9...  ...             10713475\n",
              "2  [[[255, 42, 9, 39, 35, 28, 39, 24, 22, 25, 36,...  ...             10713459\n",
              "3  [[[255, 28, 31, 72, 65, 41, 0, 44, 42, 55, 32,...  ...             10713470\n",
              "4  [[[255, 2, 0, 3, 3, 4, 2, 3, 3, 4, 3, 3, 3, 4,...  ...             10713469\n",
              "\n",
              "[5 rows x 4 columns]"
            ]
          },
          "metadata": {
            "tags": []
          },
          "execution_count": 56
        }
      ]
    },
    {
      "cell_type": "code",
      "metadata": {
        "id": "gPZSwtqM23dU",
        "colab": {
          "base_uri": "https://localhost:8080/",
          "height": 385
        },
        "outputId": "6487574f-e6a4-4a9f-d84c-f5cbdd1eacbd"
      },
      "source": [
        "sn.heatmap(df.isnull(), yticklabels=False)"
      ],
      "execution_count": 57,
      "outputs": [
        {
          "output_type": "execute_result",
          "data": {
            "text/plain": [
              "<matplotlib.axes._subplots.AxesSubplot at 0x7fc35b7339d0>"
            ]
          },
          "metadata": {
            "tags": []
          },
          "execution_count": 57
        },
        {
          "output_type": "display_data",
          "data": {
            "image/png": "[encoded data removed]",
            "text/plain": [
              "<Figure size 432x288 with 2 Axes>"
            ]
          },
          "metadata": {
            "tags": [],
            "needs_background": "light"
          }
        }
      ]
    },
    {
      "cell_type": "code",
      "metadata": {
        "id": "_N6kts8w5wg4",
        "colab": {
          "base_uri": "https://localhost:8080/",
          "height": 267
        },
        "outputId": "044581b9-5fb9-457c-d71a-35b9a0dee7c0"
      },
      "source": [
        "plt.imshow(df['images'][0].transpose(1,2,0))\n",
        "plt.show()"
      ],
      "execution_count": 58,
      "outputs": [
        {
          "output_type": "display_data",
          "data": {
            "image/png": "[encoded data removed]",
            "text/plain": [
              "<Figure size 432x288 with 1 Axes>"
            ]
          },
          "metadata": {
            "tags": [],
            "needs_background": "light"
          }
        }
      ]
    },
    {
      "cell_type": "code",
      "metadata": {
        "id": "-jN8ignP-cpI"
      },
      "source": [
        "!mkdir ext_small_images"
      ],
      "execution_count": 59,
      "outputs": []
    },
    {
      "cell_type": "code",
      "metadata": {
        "id": "t8_I1cVG9Zvd",
        "colab": {
          "base_uri": "https://localhost:8080/",
          "height": 67,
          "referenced_widgets": [
            "70339881ac5941688c686149203fb107",
            "99c6fe4d981544059d79d05a4b3e1811",
            "f59595faaab347dc9e9a331873d47fee",
            "2f2458248b6f4084bea766e7485017f3",
            "accb2adb160740beb05ffd3004e72429",
            "49628aace0f8493eaa5fc623a3558813",
            "947cb06182ce4ebabd230f602a8b850c",
            "2f29274c10154ecfb2ac35ca1f005ebf"
          ]
        },
        "outputId": "62d5e89b-c555-490a-e6f8-20ece40d1b9a"
      },
      "source": [
        "for i in tnrange(0,len(df)):\n",
        "    #png.from_array(all_images_normalized[i], 'L').save()\n",
        "    im0=df['images'][i].transpose(1,2,0)\n",
        "    im=Image.fromarray(im0)\n",
        "    path=\"/content/ext_small_images/ext_sm_\"+str(df['observation_numbers'][i])+\".png\"\n",
        "    im.save(path)\n"
      ],
      "execution_count": 60,
      "outputs": [
        {
          "output_type": "display_data",
          "data": {
            "application/vnd.jupyter.widget-view+json": {
              "model_id": "70339881ac5941688c686149203fb107",
              "version_minor": 0,
              "version_major": 2
            },
            "text/plain": [
              "HBox(children=(FloatProgress(value=0.0, max=50000.0), HTML(value='')))"
            ]
          },
          "metadata": {
            "tags": []
          }
        },
        {
          "output_type": "stream",
          "text": [
            "\n"
          ],
          "name": "stdout"
        }
      ]
    },
    {
      "cell_type": "code",
      "metadata": {
        "id": "k0cnUgUnF3Ch",
        "colab": {
          "base_uri": "https://localhost:8080/",
          "height": 285
        },
        "outputId": "e87d8589-910e-4845-8fb4-0f997968f938"
      },
      "source": [
        "i = cv2.cvtColor(plt.imread(\"/content/ext_small_images/ext_sm_10713492.png\"), \n",
        "                 cv2.COLOR_BGR2RGB)\n",
        "plt.imshow(i)"
      ],
      "execution_count": 62,
      "outputs": [
        {
          "output_type": "execute_result",
          "data": {
            "text/plain": [
              "<matplotlib.image.AxesImage at 0x7fc35a94ced0>"
            ]
          },
          "metadata": {
            "tags": []
          },
          "execution_count": 62
        },
        {
          "output_type": "display_data",
          "data": {
            "image/png": "[encoded data removed]",
            "text/plain": [
              "<Figure size 432x288 with 1 Axes>"
            ]
          },
          "metadata": {
            "tags": [],
            "needs_background": "light"
          }
        }
      ]
    },
    {
      "cell_type": "code",
      "metadata": {
        "id": "yZk-lnxZDq4c",
        "colab": {
          "base_uri": "https://localhost:8080/"
        },
        "outputId": "be6b71ce-3594-4387-8c52-dbc312671c36"
      },
      "source": [
        "!apt-get install zip"
      ],
      "execution_count": 63,
      "outputs": [
        {
          "output_type": "stream",
          "text": [
            "Reading package lists... Done\n",
            "Building dependency tree       \n",
            "Reading state information... Done\n",
            "zip is already the newest version (3.0-11build1).\n",
            "0 upgraded, 0 newly installed, 0 to remove and 30 not upgraded.\n"
          ],
          "name": "stdout"
        }
      ]
    },
    {
      "cell_type": "code",
      "metadata": {
        "id": "d__j41WsBMwa"
      },
      "source": [
        "!zip -r \"ext_small_images2.zip\" \"ext_small_images/\""
      ],
      "execution_count": null,
      "outputs": []
    },
    {
      "cell_type": "code",
      "metadata": {
        "id": "YkqzUrV8Ace6",
        "colab": {
          "base_uri": "https://localhost:8080/"
        },
        "outputId": "a0c916cf-da74-4bd2-ea57-8068db769445"
      },
      "source": [
        "!rsync --progress \"/content/ext_small_images2.zip\" \"/content/drive/MyDrive/mydata/\""
      ],
      "execution_count": 71,
      "outputs": [
        {
          "output_type": "stream",
          "text": [
            "ext_small_images2.zip\n",
            "    344,072,380 100%  122.06MB/s    0:00:02 (xfr#1, to-chk=0/1)\n"
          ],
          "name": "stdout"
        }
      ]
    },
    {
      "cell_type": "code",
      "metadata": {
        "id": "RrhjJMduOJ2h"
      },
      "source": [
        ""
      ],
      "execution_count": null,
      "outputs": []
    }
  ]
}